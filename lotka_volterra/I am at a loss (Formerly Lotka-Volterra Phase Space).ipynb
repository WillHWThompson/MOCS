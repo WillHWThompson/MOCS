{
 "cells": [
  {
   "cell_type": "code",
   "execution_count": 3,
   "id": "998216c3",
   "metadata": {},
   "outputs": [],
   "source": [
    "A = Matrix{Float64}(undef, 2, 2)\n",
    "x = Matrix{Float64}(undef, 2, 1)"
   ]
  },
  {
   "cell_type": "code",
   "execution_count": 7,
   "id": "d68a291a",
   "metadata": {},
   "outputs": [
    {
     "ename": "LoadError",
     "evalue": "syntax: \"abstract type\" at In[7]:1 expected \"end\", got \"A\"",
     "output_type": "error",
     "traceback": [
      "syntax: \"abstract type\" at In[7]:1 expected \"end\", got \"A\"",
      "",
      "Stacktrace:",
      " [1] top-level scope",
      "   @ In[7]:2",
      " [2] eval",
      "   @ ./boot.jl:368 [inlined]",
      " [3] include_string(mapexpr::typeof(REPL.softscope), mod::Module, code::String, filename::String)",
      "   @ Base ./loading.jl:1428"
     ]
    }
   ],
   "source": [
    "abstract type LinearSystem2D\n",
    "    A::Matrix{Float64}\n",
    "    x::Matrix{Float64}\n",
    "end"
   ]
  },
  {
   "cell_type": "code",
   "execution_count": null,
   "id": "aaad6f4c",
   "metadata": {},
   "outputs": [],
   "source": [
    "function vector_field_1d(\n",
    "        x::, \n",
    "        system::System)\n",
    "end"
   ]
  },
  {
   "cell_type": "code",
   "execution_count": null,
   "id": "254c1df7",
   "metadata": {},
   "outputs": [],
   "source": [
    "function vector_field_2d(\n",
    "    vector_point::VectorPoint, \n",
    "    )\n",
    "\n",
    "end"
   ]
  },
  {
   "cell_type": "code",
   "execution_count": null,
   "id": "59c9c8f1",
   "metadata": {},
   "outputs": [],
   "source": [
    "mutable struct LotkaVolterra\n",
    "    \n",
    "end "
   ]
  }
 ],
 "metadata": {
  "kernelspec": {
   "display_name": "Julia 1.8.1",
   "language": "julia",
   "name": "julia-1.8"
  },
  "language_info": {
   "file_extension": ".jl",
   "mimetype": "application/julia",
   "name": "julia",
   "version": "1.8.1"
  }
 },
 "nbformat": 4,
 "nbformat_minor": 5
}
