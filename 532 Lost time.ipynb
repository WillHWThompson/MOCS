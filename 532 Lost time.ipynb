{
 "cells": [
  {
   "cell_type": "code",
   "execution_count": 1,
   "id": "5e867dba",
   "metadata": {},
   "outputs": [],
   "source": [
    "# Story Corp Podcast - 532 Lost time"
   ]
  },
  {
   "cell_type": "code",
   "execution_count": null,
   "id": "3171f444",
   "metadata": {},
   "outputs": [],
   "source": [
    "(FM): I was always like a comic book fan, so Superman had this Fortress of Solitude and you think it’s a great place of being alone, and you know, solitude in my mind was always something that I wanted, but I was in a tiny space that you can stretch out both your arms and touch both the walls. There’s a sink and a toilet. The light is on 24 hours a day. There are no mirrors, you don’t know what yourself looks like.  \n",
    "\n",
    "You count all the cracks in the walls, all the paint strokes in the walls, how many bolts there are in the floor. And I had a fly in my cell for three days. And I found myself talking to this fly. Playing imaginary games of tag with him. And this fly was my friend. And they came and searched my cell one day, and I don’t know what happened, he got out. And I broke down. And I was like, “I’m losing my mind in here.”\n",
    "\n",
    "I was exonerated on most of my charges. They released me right then and there, which was great. But you go from solitary confinement right back into population. There is no transition back into society it’s just: one day, solitary, next day ten-million commuters, 42nd Street, here’s a bus ticket, here’s 40 dollars, and you’re gone.\n",
    "\n",
    "My first year home, I would wake up every day and sit at the side of my bed, and have to kind of snap out of it and realize that I’m still not in this cage. And I’m grateful for that,   But sometimes, when it’s so quiet, it just — it takes me back.\n",
    "\n",
    "[MUSIC]\n",
    "\n",
    "MG: Five recorded that just one year after he was released from prison in 2012. He was experiencing a lot of trouble with his memory. He was suffering from anxiety whenever he was in a tight space, including the recording booth, and he was having difficulty communicating with other people.\n",
    "\n",
    "Today, Five says some of these effects have eased up, and he’s working hard to regain some balance in his life.\n",
    "\n",
    "But there’s one thing that he lost that can’t be regained, no matter how hard he works, and that’s time.\n",
    "\n",
    "Five was in prison for nearly 12 years, so try to imagine for a minute what it would be like if you missed out on the last 12 years.\n",
    "\n",
    "We’ve seen three different presidents in that time, and some pretty historic ones at that. Do you like sports? Well, you missed a dozen World Series and Super Bowls –– and this thing called an iPhone happened.\n",
    "\n",
    "Now think about this: 12 years ago, if you knew a kid who was in kindergarten — say your daughter, a nephew, a grandchild — well today, they’re getting ready to go to college. You missed their entire childhood.\n",
    "\n",
    "And that was the situation that Five found himself in with his son, Omar. When Five was first incarcerated, Omar was just five years old. By the time his father was released in 2012, Omar was a senior in high school.\n",
    "\n",
    "Recently, Five came to StoryCorps for a second interview, and this time he came with Omar, who is 24. Five had been in prison for nearly half his son’s life, and they sat down together to discuss the effect this had on their relationship for the very first time.\n",
    "\n",
    "Omar Mualimm-ak (OM): Do you remember when you first saw me?\n",
    "\n",
    "Five Mualimm-ak (FM): Yeah, head first. [Laughter] I went to classes. I had, like, 50 books so that I could help deliver you. I wanted to make sure I was the first person to touch you.\n",
    "\n",
    "OM: I didn’t know you took birthing classes.\n",
    "\n",
    "FM: Yeah. The first night I fell asleep in the hospital holding you. I think it was the most joyous time in my life. What was the hardest thing for you about me being in prison?\n",
    "\n",
    "OM: Losing a father.\n",
    "\n",
    "FM: Nobody to answer guy questions.\n",
    "\n",
    "OM: Yeah. It affected a lot of areas of my life. I cried a lot. Did you worry about me?\n",
    "\n",
    "FM: Yeah, every minute of the day, man. Throughout that dozen years in prison I felt like I would die in there. But my biggest fear wasn’t losing my life. It was losing my family. And when I came home I felt like I did. When I first saw you, you were so tall. You were like, “Hey, Dad.” You were like a grown man. And I just remember being so proud. You was an intelligent young man. But I felt all that time I did in prison that I played no part in making you the success that you are. And I can’t make up for half your life that I missed. That was irreplaceable. But how do you think our relationship has changed over time?\n",
    "\n",
    "OM: It’s getting better. That’s the important thing. We can’t beat ourselves up about the past. You know, it’s happened. It’s there. All we have is the present moment.\n",
    "\n",
    "FM: Yeah. I could care what the world says or thinks. The real damage is what my son thinks.\n",
    "\n",
    "OM: I’m sorry, Dad.\n",
    "\n",
    "FM: You don’t have to be sorry.\n",
    "\n",
    "OM: No, man, I don’t like to see you crying, man. You’re my father despite the jail experience, and I don’t want you to think that I don’t care.\n",
    "\n",
    "FM: I know you do. One thing you can never get back is time. And I’m just grateful to move forward as two men getting to know each other now."
   ]
  }
 ],
 "metadata": {
  "kernelspec": {
   "display_name": "Python 3 (ipykernel)",
   "language": "python",
   "name": "python3"
  },
  "language_info": {
   "codemirror_mode": {
    "name": "ipython",
    "version": 3
   },
   "file_extension": ".py",
   "mimetype": "text/x-python",
   "name": "python",
   "nbconvert_exporter": "python",
   "pygments_lexer": "ipython3",
   "version": "3.9.12"
  }
 },
 "nbformat": 4,
 "nbformat_minor": 5
}
